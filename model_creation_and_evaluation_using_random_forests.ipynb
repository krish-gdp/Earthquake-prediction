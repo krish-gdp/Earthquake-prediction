{
  "nbformat": 4,
  "nbformat_minor": 0,
  "metadata": {
    "colab": {
      "name": "model creation and evaluation using random forests.ipynb",
      "provenance": [],
      "collapsed_sections": []
    },
    "kernelspec": {
      "name": "python3",
      "display_name": "Python 3"
    },
    "language_info": {
      "name": "python"
    }
  },
  "cells": [
    {
      "cell_type": "code",
      "metadata": {
        "id": "Pph7utEa1Zi_"
      },
      "source": [
        "X = df1[['Timestamp', 'Latitude', 'Longitude','Depth']]\n",
        "y = df1['Magnitude']\n",
        "from sklearn.model_selection import train_test_split\n",
        "X_train, X_test, y_train, y_test = train_test_split(X, y, test_size=0.33, random_state=101)\n"
      ],
      "execution_count": null,
      "outputs": []
    },
    {
      "cell_type": "code",
      "metadata": {
        "id": "qD84-3jo2_K_"
      },
      "source": [
        "X_final = np.array(X)\n",
        "y_final = np.array(y)\n",
        "\n",
        "\n"
      ],
      "execution_count": null,
      "outputs": []
    },
    {
      "cell_type": "code",
      "metadata": {
        "id": "47_4JYMX3hq_"
      },
      "source": [
        "X_train, X_test, y_train, y_test = train_test_split(X_final, y_final, test_size=0.33, random_state=101)\n"
      ],
      "execution_count": null,
      "outputs": []
    },
    {
      "cell_type": "code",
      "metadata": {
        "id": "QVcxIQv93769"
      },
      "source": [
        "from sklearn.ensemble import RandomForestRegressor\n",
        "from sklearn.metrics import mean_absolute_error,mean_squared_error\n",
        "mae = []\n",
        "mse = []\n",
        "trees = [50,100,120,150,200]\n",
        "for i in range (0,5):\n",
        "  model = RandomForestRegressor(n_estimators = trees[i],max_depth = 3,criterion = 'mae')\n",
        "  model.fit(X_train,y_train)\n",
        "  y_pred = model.predict(X_test)\n",
        "  error1 = mean_absolute_error(y_test,y_pred)\n",
        "  mae.append(error1)\n",
        "  error2 = mean_squared_error(y_test,y_pred)\n",
        "  mse.append(error2)\n",
        "\n"
      ],
      "execution_count": null,
      "outputs": []
    },
    {
      "cell_type": "code",
      "metadata": {
        "colab": {
          "base_uri": "https://localhost:8080/"
        },
        "id": "DQBuc8gq4W5A",
        "outputId": "a0672a22-427e-4ca6-e0ef-33d153ada3e7"
      },
      "source": [
        "mae"
      ],
      "execution_count": null,
      "outputs": [
        {
          "output_type": "execute_result",
          "data": {
            "text/plain": [
              "[0.28325402491169394,\n",
              " 0.28341885108756293,\n",
              " 0.28357066833984046,\n",
              " 0.2832002664683656,\n",
              " 0.28340878880832987]"
            ]
          },
          "metadata": {},
          "execution_count": 93
        }
      ]
    },
    {
      "cell_type": "code",
      "metadata": {
        "colab": {
          "base_uri": "https://localhost:8080/"
        },
        "id": "29Kqk5s2HaPZ",
        "outputId": "286b85b3-7e3c-4bc2-b603-21bc99bc5f94"
      },
      "source": [
        "mse"
      ],
      "execution_count": null,
      "outputs": [
        {
          "output_type": "execute_result",
          "data": {
            "text/plain": [
              "[0.1828111963487643,\n",
              " 0.1825247996579298,\n",
              " 0.18283260823179381,\n",
              " 0.18267088480448526,\n",
              " 0.18249019958693247]"
            ]
          },
          "metadata": {},
          "execution_count": 94
        }
      ]
    },
    {
      "cell_type": "code",
      "metadata": {
        "id": "VyPm_YeqHbJ1"
      },
      "source": [
        "ac =[]\n",
        "for i in range(0,5):\n",
        "  accuracy_score = 1-mae[i]\n",
        "  ac.append(accuracy_score)\n",
        "  "
      ],
      "execution_count": null,
      "outputs": []
    },
    {
      "cell_type": "code",
      "metadata": {
        "colab": {
          "base_uri": "https://localhost:8080/"
        },
        "id": "wJVa_FwaHykP",
        "outputId": "555e23c7-f835-435a-d384-bd56c900df72"
      },
      "source": [
        "ac"
      ],
      "execution_count": null,
      "outputs": [
        {
          "output_type": "execute_result",
          "data": {
            "text/plain": [
              "[0.7167459750883061,\n",
              " 0.7165811489124371,\n",
              " 0.7164293316601595,\n",
              " 0.7167997335316344,\n",
              " 0.7165912111916701]"
            ]
          },
          "metadata": {},
          "execution_count": 96
        }
      ]
    },
    {
      "cell_type": "code",
      "metadata": {
        "id": "PXBW48fkHz45"
      },
      "source": [
        "# since the accuracy scores are very low we use the boosting techniques to improve the accuracy scores."
      ],
      "execution_count": null,
      "outputs": []
    },
    {
      "cell_type": "code",
      "metadata": {
        "id": "rN76Q-iQMF3C"
      },
      "source": [
        "from sklearn.ensemble import GradientBoostingRegressor\n",
        "import lightgbm\n",
        "import xgboost\n",
        "from xgboost import XGBRegressor\n",
        "from lightgbm import LGBMRegressor\n",
        "from sklearn.metrics import r2_score"
      ],
      "execution_count": null,
      "outputs": []
    },
    {
      "cell_type": "code",
      "metadata": {
        "id": "FUkQtEj0MHu7"
      },
      "source": [
        "def boost_models(x):\n",
        "    #transforming target variable through quantile transformer\n",
        "    model= x\n",
        "    model.fit(X_train, y_train)\n",
        "    y_pred = model.predict(X_test)\n",
        "    algoname= x.__class__.__name__\n",
        "    return algoname, round(r2_score(y_test, y_pred),3), round(mean_absolute_error(y_test, y_pred),2), round(np.sqrt(mean_squared_error(y_test, y_pred)),2)\n"
      ],
      "execution_count": null,
      "outputs": []
    },
    {
      "cell_type": "code",
      "metadata": {
        "colab": {
          "base_uri": "https://localhost:8080/",
          "height": 160
        },
        "id": "EmkJi2KML6A0",
        "outputId": "371f0856-0924-4ee9-b01e-dd688b248992"
      },
      "source": [
        "algo=[GradientBoostingRegressor(),LGBMRegressor(),XGBRegressor()]\n",
        "score=[]\n",
        "for a in algo:\n",
        "    score.append(boost_models(a))\n",
        "pd.DataFrame(score, columns=['Model', 'Score', 'MAE', 'RMSE'])"
      ],
      "execution_count": null,
      "outputs": [
        {
          "output_type": "stream",
          "name": "stdout",
          "text": [
            "[11:32:22] WARNING: /workspace/src/objective/regression_obj.cu:152: reg:linear is now deprecated in favor of reg:squarederror.\n"
          ]
        },
        {
          "output_type": "execute_result",
          "data": {
            "text/html": [
              "<div>\n",
              "<style scoped>\n",
              "    .dataframe tbody tr th:only-of-type {\n",
              "        vertical-align: middle;\n",
              "    }\n",
              "\n",
              "    .dataframe tbody tr th {\n",
              "        vertical-align: top;\n",
              "    }\n",
              "\n",
              "    .dataframe thead th {\n",
              "        text-align: right;\n",
              "    }\n",
              "</style>\n",
              "<table border=\"1\" class=\"dataframe\">\n",
              "  <thead>\n",
              "    <tr style=\"text-align: right;\">\n",
              "      <th></th>\n",
              "      <th>Model</th>\n",
              "      <th>Score</th>\n",
              "      <th>MAE</th>\n",
              "      <th>RMSE</th>\n",
              "    </tr>\n",
              "  </thead>\n",
              "  <tbody>\n",
              "    <tr>\n",
              "      <th>0</th>\n",
              "      <td>GradientBoostingRegressor</td>\n",
              "      <td>0.053</td>\n",
              "      <td>0.3</td>\n",
              "      <td>0.41</td>\n",
              "    </tr>\n",
              "    <tr>\n",
              "      <th>1</th>\n",
              "      <td>LGBMRegressor</td>\n",
              "      <td>0.056</td>\n",
              "      <td>0.3</td>\n",
              "      <td>0.41</td>\n",
              "    </tr>\n",
              "    <tr>\n",
              "      <th>2</th>\n",
              "      <td>XGBRegressor</td>\n",
              "      <td>0.058</td>\n",
              "      <td>0.3</td>\n",
              "      <td>0.41</td>\n",
              "    </tr>\n",
              "  </tbody>\n",
              "</table>\n",
              "</div>"
            ],
            "text/plain": [
              "                       Model  Score  MAE  RMSE\n",
              "0  GradientBoostingRegressor  0.053  0.3  0.41\n",
              "1              LGBMRegressor  0.056  0.3  0.41\n",
              "2               XGBRegressor  0.058  0.3  0.41"
            ]
          },
          "metadata": {},
          "execution_count": 111
        }
      ]
    }
  ]
}