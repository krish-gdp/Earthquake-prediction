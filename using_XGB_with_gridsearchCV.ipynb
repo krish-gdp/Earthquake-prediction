{
  "nbformat": 4,
  "nbformat_minor": 0,
  "metadata": {
    "colab": {
      "name": "using XGB with gridsearchCV.ipynb",
      "provenance": [],
      "collapsed_sections": []
    },
    "kernelspec": {
      "name": "python3",
      "display_name": "Python 3"
    },
    "language_info": {
      "name": "python"
    }
  },
  "cells": [
    {
      "cell_type": "code",
      "metadata": {
        "id": "LvnXkHloNHeR"
      },
      "source": [
        "from sklearn.model_selection import GridSearchCV,RandomizedSearchCV"
      ],
      "execution_count": null,
      "outputs": []
    },
    {
      "cell_type": "code",
      "metadata": {
        "id": "ye6v7gbQW8eS"
      },
      "source": [
        "params ={\n",
        "    \"learning_rate\":[0.05,0.10,0.15,0.20,0.25,0.30],\n",
        "    \"max_depth\":[3,4,5,6,8],\n",
        "    \"min_child_weight\":[1,3,5,7],\n",
        "    \"gamma\":[0.1,0.2,0.3,0.4]\n",
        "}"
      ],
      "execution_count": null,
      "outputs": []
    },
    {
      "cell_type": "code",
      "metadata": {
        "id": "ChIRc8LbX9Hk"
      },
      "source": [
        "from xgboost import XGBRegressor\n",
        "xgb1 = XGBRegressor()"
      ],
      "execution_count": null,
      "outputs": []
    },
    {
      "cell_type": "code",
      "metadata": {
        "id": "Y4eNkWnaYWSh"
      },
      "source": [
        "grid = GridSearchCV(xgb1,params,n_jobs=-1,cv=3,verbose=3)"
      ],
      "execution_count": null,
      "outputs": []
    },
    {
      "cell_type": "code",
      "metadata": {
        "colab": {
          "base_uri": "https://localhost:8080/"
        },
        "id": "mOw6fbqvZLu6",
        "outputId": "7ac0ac60-d2d1-48b4-b6b5-0861616b7639"
      },
      "source": [
        "grid.fit(X_train,y_train)"
      ],
      "execution_count": null,
      "outputs": [
        {
          "output_type": "stream",
          "name": "stdout",
          "text": [
            "Fitting 3 folds for each of 480 candidates, totalling 1440 fits\n"
          ]
        },
        {
          "output_type": "stream",
          "name": "stderr",
          "text": [
            "[Parallel(n_jobs=-1)]: Using backend LokyBackend with 2 concurrent workers.\n",
            "[Parallel(n_jobs=-1)]: Done  28 tasks      | elapsed:    8.8s\n",
            "[Parallel(n_jobs=-1)]: Done 124 tasks      | elapsed:   49.6s\n",
            "[Parallel(n_jobs=-1)]: Done 284 tasks      | elapsed:  1.9min\n",
            "[Parallel(n_jobs=-1)]: Done 508 tasks      | elapsed:  3.4min\n",
            "[Parallel(n_jobs=-1)]: Done 796 tasks      | elapsed:  5.4min\n",
            "[Parallel(n_jobs=-1)]: Done 1148 tasks      | elapsed:  7.7min\n",
            "[Parallel(n_jobs=-1)]: Done 1440 out of 1440 | elapsed:  9.6min finished\n"
          ]
        },
        {
          "output_type": "stream",
          "name": "stdout",
          "text": [
            "[12:32:08] WARNING: /workspace/src/objective/regression_obj.cu:152: reg:linear is now deprecated in favor of reg:squarederror.\n"
          ]
        },
        {
          "output_type": "execute_result",
          "data": {
            "text/plain": [
              "GridSearchCV(cv=3, error_score=nan,\n",
              "             estimator=XGBRegressor(base_score=0.5, booster='gbtree',\n",
              "                                    colsample_bylevel=1, colsample_bynode=1,\n",
              "                                    colsample_bytree=1, gamma=0,\n",
              "                                    importance_type='gain', learning_rate=0.1,\n",
              "                                    max_delta_step=0, max_depth=3,\n",
              "                                    min_child_weight=1, missing=None,\n",
              "                                    n_estimators=100, n_jobs=1, nthread=None,\n",
              "                                    objective='reg:linear', random_state=0,\n",
              "                                    reg_alpha=0, reg_lambda=1,\n",
              "                                    scale_pos_weight=1, seed=None, silent=None,\n",
              "                                    subsample=1, verbosity=1),\n",
              "             iid='deprecated', n_jobs=-1,\n",
              "             param_grid={'gamma': [0.1, 0.2, 0.3, 0.4],\n",
              "                         'learning_rate': [0.05, 0.1, 0.15, 0.2, 0.25, 0.3],\n",
              "                         'max_depth': [3, 4, 5, 6, 8],\n",
              "                         'min_child_weight': [1, 3, 5, 7]},\n",
              "             pre_dispatch='2*n_jobs', refit=True, return_train_score=False,\n",
              "             scoring=None, verbose=3)"
            ]
          },
          "metadata": {},
          "execution_count": 121
        }
      ]
    },
    {
      "cell_type": "code",
      "metadata": {
        "colab": {
          "base_uri": "https://localhost:8080/"
        },
        "id": "WtHJidPQZQPC",
        "outputId": "2386f9fd-6e7b-4f3d-d67e-db4179fa32ce"
      },
      "source": [
        "grid.best_score_"
      ],
      "execution_count": null,
      "outputs": [
        {
          "output_type": "execute_result",
          "data": {
            "text/plain": [
              "0.04475621943133353"
            ]
          },
          "metadata": {},
          "execution_count": 122
        }
      ]
    },
    {
      "cell_type": "code",
      "metadata": {
        "colab": {
          "base_uri": "https://localhost:8080/"
        },
        "id": "CYcKX9oCchwa",
        "outputId": "6bc700d4-9a67-4410-c826-3f443ac5c8f9"
      },
      "source": [
        "grid.best_params_"
      ],
      "execution_count": null,
      "outputs": [
        {
          "output_type": "execute_result",
          "data": {
            "text/plain": [
              "{'gamma': 0.4, 'learning_rate': 0.1, 'max_depth': 4, 'min_child_weight': 3}"
            ]
          },
          "metadata": {},
          "execution_count": 123
        }
      ]
    },
    {
      "cell_type": "code",
      "metadata": {
        "id": "BopVCvmOckzz"
      },
      "source": [
        "xgb2 = XGBRegressor(gamma = 0.4, learning_rate = 0.1, max_depth = 4, min_child_weight = 3)"
      ],
      "execution_count": null,
      "outputs": []
    },
    {
      "cell_type": "code",
      "metadata": {
        "colab": {
          "base_uri": "https://localhost:8080/"
        },
        "id": "bfnugZRBcyJ_",
        "outputId": "3000c0c0-9e7d-4e2d-dcde-d1b78648890e"
      },
      "source": [
        "xgb2.fit(X_train,y_train)\n",
        "y_pred = xgb2.predict(X_test)\n",
        "mae = mean_absolute_error(y_test,y_pred)"
      ],
      "execution_count": null,
      "outputs": [
        {
          "output_type": "stream",
          "name": "stdout",
          "text": [
            "[12:37:04] WARNING: /workspace/src/objective/regression_obj.cu:152: reg:linear is now deprecated in favor of reg:squarederror.\n"
          ]
        }
      ]
    },
    {
      "cell_type": "code",
      "metadata": {
        "colab": {
          "base_uri": "https://localhost:8080/"
        },
        "id": "F4nrYCMAdbRN",
        "outputId": "dc73836b-e640-4d92-b9e2-a0a410e16ac0"
      },
      "source": [
        "mae"
      ],
      "execution_count": null,
      "outputs": [
        {
          "output_type": "execute_result",
          "data": {
            "text/plain": [
              "0.3018428259291244"
            ]
          },
          "metadata": {},
          "execution_count": 129
        }
      ]
    },
    {
      "cell_type": "code",
      "metadata": {
        "id": "0DeWA48PdhbP"
      },
      "source": [
        ""
      ],
      "execution_count": null,
      "outputs": []
    }
  ]
}